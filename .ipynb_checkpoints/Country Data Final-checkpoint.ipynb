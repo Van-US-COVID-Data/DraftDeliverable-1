{
 "cells": [
  {
   "cell_type": "code",
   "execution_count": null,
   "id": "2a779fb3",
   "metadata": {},
   "outputs": [],
   "source": [
    "##DOWNLOADING ALL DATA SETS##"
   ]
  },
  {
   "cell_type": "code",
   "execution_count": 1,
   "id": "3933a646",
   "metadata": {},
   "outputs": [
    {
     "name": "stdout",
     "output_type": "stream",
     "text": [
      "Name: pandas\r\n",
      "Version: 1.4.4\r\n",
      "Summary: Powerful data structures for data analysis, time series, and statistics\r\n",
      "Home-page: https://pandas.pydata.org\r\n",
      "Author: The Pandas Development Team\r\n",
      "Author-email: pandas-dev@python.org\r\n",
      "License: BSD-3-Clause\r\n",
      "Location: /opt/anaconda3/lib/python3.9/site-packages\r\n",
      "Requires: numpy, python-dateutil, pytz\r\n",
      "Required-by: datashader, holoviews, hvplot, seaborn, statsmodels, xarray\r\n"
     ]
    }
   ],
   "source": [
    "!pip show pandas"
   ]
  },
  {
   "cell_type": "code",
   "execution_count": 2,
   "id": "9d917c4c",
   "metadata": {},
   "outputs": [],
   "source": [
    "import pandas as pd"
   ]
  },
  {
   "cell_type": "code",
   "execution_count": null,
   "id": "2b4e2b78",
   "metadata": {},
   "outputs": [],
   "source": [
    "gitCloudRepo='https://github.com/Van-US-COVID-Data/Deliverable-1/raw/main/'\n",
    "fileName1=\"birthrate.csv\"\n",
    "fileName2=\"carbondioxideemissions.csv\"\n",
    "fileName3=\"energyconsumptionpercapita.csv\"\n",
    "fileName4=\"fertilityrate.csv\"\n",
    "fileName5=\"industrialproductiongrowthrate.csv\"\n",
    "fileName6=\"laborforce.csv\"\n",
    "fileName7=\"lifeextectancyatbirth.csv\"\n",
    "fileName8=\"unemploymentrate.csv\"\n",
    "\n",
    "Birth"
   ]
  }
 ],
 "metadata": {
  "kernelspec": {
   "display_name": "Python 3 (ipykernel)",
   "language": "python",
   "name": "python3"
  },
  "language_info": {
   "codemirror_mode": {
    "name": "ipython",
    "version": 3
   },
   "file_extension": ".py",
   "mimetype": "text/x-python",
   "name": "python",
   "nbconvert_exporter": "python",
   "pygments_lexer": "ipython3",
   "version": "3.9.13"
  }
 },
 "nbformat": 4,
 "nbformat_minor": 5
}
